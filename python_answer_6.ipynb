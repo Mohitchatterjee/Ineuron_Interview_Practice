{
  "nbformat": 4,
  "nbformat_minor": 0,
  "metadata": {
    "colab": {
      "provenance": [],
      "collapsed_sections": [
        "SiNuTyybZW29",
        "wSid5A54lhcE",
        "vM8J9OgAywxI",
        "L_FVAUYv1vcN",
        "7RPKRYiLAuqj"
      ],
      "mount_file_id": "1hPbKN6OlBExy5wwKKAdKFbNA3iT3bNaH",
      "authorship_tag": "ABX9TyMYFskeex+uvJ80C3ewNWVL",
      "include_colab_link": true
    },
    "kernelspec": {
      "name": "python3",
      "display_name": "Python 3"
    },
    "language_info": {
      "name": "python"
    }
  },
  "cells": [
    {
      "cell_type": "markdown",
      "metadata": {
        "id": "view-in-github",
        "colab_type": "text"
      },
      "source": [
        "<a href=\"https://colab.research.google.com/github/Mohitchatterjee/Ineuron_Interview_Practice/blob/main/python_answer_6.ipynb\" target=\"_parent\"><img src=\"https://colab.research.google.com/assets/colab-badge.svg\" alt=\"Open In Colab\"/></a>"
      ]
    },
    {
      "cell_type": "code",
      "execution_count": null,
      "metadata": {
        "colab": {
          "base_uri": "https://localhost:8080/"
        },
        "id": "-aemdozIYT4U",
        "outputId": "3b03c64d-7338-4ae7-8b55-fcaf289f22c6"
      },
      "outputs": [
        {
          "output_type": "stream",
          "name": "stdout",
          "text": [
            "/content\n"
          ]
        }
      ],
      "source": [
        "import os\n",
        "print(os.getcwd())\n",
        "from urllib.request import urlopen\n",
        "import json\n",
        "import pandas as pd\n",
        "\n",
        "class Pokemon:\n",
        "    def read_URL(self, URL):\n",
        "        # store the response of URL\n",
        "        response = urlopen(url)\n",
        "\n",
        "        # storing the JSON response from url in data\n",
        "        self.data_json = json.loads(response.read())\n",
        "        self.storeJsonToExcel()\n",
        "\n",
        "    def storeJsonToExcel(self):\n",
        "        # Normalize json with key pokemon\n",
        "        self.df = pd.json_normalize(self.data_json['pokemon'])\n",
        "\n",
        "        fileName = 'Pokemon.xlsx'\n",
        "\n",
        "        # Save df into excel format\n",
        "        self.df.to_excel(fileName)\n",
        "\n",
        "\n",
        "if __name__ == '__main__':\n",
        "    url = \"https://raw.githubusercontent.com/Biuni/PokemonGO-Pokedex/master/pokedex.json\"\n",
        "    cls_obj = Pokemon()\n",
        "    cls_obj.read_URL(url)"
      ]
    },
    {
      "cell_type": "markdown",
      "source": [
        "## Get all Pokemons whose spawn rate is less than 5%"
      ],
      "metadata": {
        "id": "SiNuTyybZW29"
      }
    },
    {
      "cell_type": "code",
      "source": [
        "import pandas as pd\n",
        "\n",
        "df = pd.read_excel('Pokemon.xlsx')\n",
        "df = df.drop(columns='Unnamed: 0')\n",
        "\n",
        "# Using DF internal filter to filter out spawn rate less than 5% and save result in avg_spawn_df\n",
        "avg_spawn_df = df[df['avg_spawns'] <= 5]\n",
        "pokemon_list = []\n",
        "for index,row in avg_spawn_df.iterrows():\n",
        "  # append all pokemon to empty list 'pokemon_list'\n",
        "  pokemon_list.append(row['name'])\n",
        "pokemon_list"
      ],
      "metadata": {
        "colab": {
          "base_uri": "https://localhost:8080/"
        },
        "id": "GIhQE06gZDCu",
        "outputId": "e16aa397-05fe-496b-e434-0f9a0c92fe94"
      },
      "execution_count": null,
      "outputs": [
        {
          "output_type": "execute_result",
          "data": {
            "text/plain": [
              "['Ivysaur',\n",
              " 'Venusaur',\n",
              " 'Charmeleon',\n",
              " 'Charizard',\n",
              " 'Wartortle',\n",
              " 'Blastoise',\n",
              " 'Butterfree',\n",
              " 'Pidgey',\n",
              " 'Rattata',\n",
              " 'Raichu',\n",
              " 'Sandslash',\n",
              " 'Nidoqueen',\n",
              " 'Nidoking',\n",
              " 'Clefable',\n",
              " 'Ninetales',\n",
              " 'Wigglytuff',\n",
              " 'Vileplume',\n",
              " 'Dugtrio',\n",
              " 'Persian',\n",
              " 'Primeape',\n",
              " 'Arcanine',\n",
              " 'Poliwrath',\n",
              " 'Kadabra',\n",
              " 'Alakazam',\n",
              " 'Machoke',\n",
              " 'Machamp',\n",
              " 'Victreebel',\n",
              " 'Golem',\n",
              " 'Rapidash',\n",
              " 'Slowbro',\n",
              " 'Magneton',\n",
              " \"Farfetch'd\",\n",
              " 'Dewgong',\n",
              " 'Muk',\n",
              " 'Cloyster',\n",
              " 'Gengar',\n",
              " 'Electrode',\n",
              " 'Exeggutor',\n",
              " 'Marowak',\n",
              " 'Hitmonlee',\n",
              " 'Hitmonchan',\n",
              " 'Lickitung',\n",
              " 'Weezing',\n",
              " 'Rhydon',\n",
              " 'Chansey',\n",
              " 'Kangaskhan',\n",
              " 'Seadra',\n",
              " 'Starmie',\n",
              " 'Mr. Mime',\n",
              " 'Gyarados',\n",
              " 'Lapras',\n",
              " 'Ditto',\n",
              " 'Vaporeon',\n",
              " 'Jolteon',\n",
              " 'Flareon',\n",
              " 'Porygon',\n",
              " 'Omastar',\n",
              " 'Kabutops',\n",
              " 'Aerodactyl',\n",
              " 'Snorlax',\n",
              " 'Articuno',\n",
              " 'Zapdos',\n",
              " 'Moltres',\n",
              " 'Dragonair',\n",
              " 'Dragonite',\n",
              " 'Mewtwo',\n",
              " 'Mew']"
            ]
          },
          "metadata": {},
          "execution_count": 51
        }
      ]
    },
    {
      "cell_type": "markdown",
      "source": [
        "##Get all Pokemons that have less than 4 weaknesses"
      ],
      "metadata": {
        "id": "wSid5A54lhcE"
      }
    },
    {
      "cell_type": "code",
      "source": [
        "pokemon_less_than_4_weakness = []\n",
        "for index, row in df.iterrows():\n",
        "  weaknessList = row['weaknesses'].replace('[','').replace(']','').replace(\"'\",\"\").split(',')\n",
        "  if len(weaknessList) < 4:\n",
        "    pokemon_less_than_4_weakness.append(row['name'])\n",
        "pokemon_less_than_4_weakness"
      ],
      "metadata": {
        "colab": {
          "base_uri": "https://localhost:8080/"
        },
        "id": "mJ20YEq8euCy",
        "outputId": "cf16eb47-1e14-4832-ba55-779272efd17d"
      },
      "execution_count": null,
      "outputs": [
        {
          "output_type": "execute_result",
          "data": {
            "text/plain": [
              "['Charmander',\n",
              " 'Charmeleon',\n",
              " 'Charizard',\n",
              " 'Squirtle',\n",
              " 'Wartortle',\n",
              " 'Blastoise',\n",
              " 'Caterpie',\n",
              " 'Metapod',\n",
              " 'Pidgey',\n",
              " 'Pidgeotto',\n",
              " 'Pidgeot',\n",
              " 'Rattata',\n",
              " 'Raticate',\n",
              " 'Spearow',\n",
              " 'Fearow',\n",
              " 'Ekans',\n",
              " 'Arbok',\n",
              " 'Pikachu',\n",
              " 'Raichu',\n",
              " 'Sandshrew',\n",
              " 'Sandslash',\n",
              " 'Nidoran ♀ (Female)',\n",
              " 'Nidorina',\n",
              " 'Nidoran ♂ (Male)',\n",
              " 'Nidorino',\n",
              " 'Clefairy',\n",
              " 'Clefable',\n",
              " 'Vulpix',\n",
              " 'Ninetales',\n",
              " 'Jigglypuff',\n",
              " 'Wigglytuff',\n",
              " 'Diglett',\n",
              " 'Dugtrio',\n",
              " 'Meowth',\n",
              " 'Persian',\n",
              " 'Psyduck',\n",
              " 'Golduck',\n",
              " 'Mankey',\n",
              " 'Primeape',\n",
              " 'Growlithe',\n",
              " 'Arcanine',\n",
              " 'Poliwag',\n",
              " 'Poliwhirl',\n",
              " 'Abra',\n",
              " 'Kadabra',\n",
              " 'Alakazam',\n",
              " 'Machop',\n",
              " 'Machoke',\n",
              " 'Machamp',\n",
              " 'Tentacool',\n",
              " 'Tentacruel',\n",
              " 'Ponyta',\n",
              " 'Rapidash',\n",
              " 'Magnemite',\n",
              " 'Magneton',\n",
              " \"Farfetch'd\",\n",
              " 'Doduo',\n",
              " 'Dodrio',\n",
              " 'Seel',\n",
              " 'Grimer',\n",
              " 'Muk',\n",
              " 'Shellder',\n",
              " 'Drowzee',\n",
              " 'Hypno',\n",
              " 'Krabby',\n",
              " 'Kingler',\n",
              " 'Voltorb',\n",
              " 'Electrode',\n",
              " 'Cubone',\n",
              " 'Marowak',\n",
              " 'Hitmonlee',\n",
              " 'Hitmonchan',\n",
              " 'Lickitung',\n",
              " 'Koffing',\n",
              " 'Weezing',\n",
              " 'Chansey',\n",
              " 'Kangaskhan',\n",
              " 'Horsea',\n",
              " 'Seadra',\n",
              " 'Goldeen',\n",
              " 'Seaking',\n",
              " 'Staryu',\n",
              " 'Mr. Mime',\n",
              " 'Electabuzz',\n",
              " 'Magmar',\n",
              " 'Pinsir',\n",
              " 'Tauros',\n",
              " 'Magikarp',\n",
              " 'Gyarados',\n",
              " 'Ditto',\n",
              " 'Eevee',\n",
              " 'Vaporeon',\n",
              " 'Jolteon',\n",
              " 'Flareon',\n",
              " 'Porygon',\n",
              " 'Snorlax',\n",
              " 'Zapdos',\n",
              " 'Moltres',\n",
              " 'Dratini',\n",
              " 'Dragonair',\n",
              " 'Mewtwo',\n",
              " 'Mew']"
            ]
          },
          "metadata": {},
          "execution_count": 59
        }
      ]
    },
    {
      "cell_type": "markdown",
      "source": [
        "##Get all Pokemons that have no multipliers at all"
      ],
      "metadata": {
        "id": "vM8J9OgAywxI"
      }
    },
    {
      "cell_type": "code",
      "source": [
        "no_multiplier_pokemon_list = []\n",
        "for index, row in df.iterrows():\n",
        "  if type(row['multipliers']) != float:\n",
        "    no_multiplier_pokemon_list.append(row['name'])\n",
        "no_multiplier_pokemon_list"
      ],
      "metadata": {
        "colab": {
          "base_uri": "https://localhost:8080/"
        },
        "id": "V2ulVUlqyzbY",
        "outputId": "1c3b4027-8d08-4c84-fe70-6e2acc1c666d"
      },
      "execution_count": null,
      "outputs": [
        {
          "output_type": "execute_result",
          "data": {
            "text/plain": [
              "['Bulbasaur',\n",
              " 'Ivysaur',\n",
              " 'Charmander',\n",
              " 'Charmeleon',\n",
              " 'Squirtle',\n",
              " 'Wartortle',\n",
              " 'Caterpie',\n",
              " 'Metapod',\n",
              " 'Weedle',\n",
              " 'Kakuna',\n",
              " 'Pidgey',\n",
              " 'Pidgeotto',\n",
              " 'Rattata',\n",
              " 'Spearow',\n",
              " 'Ekans',\n",
              " 'Pikachu',\n",
              " 'Sandshrew',\n",
              " 'Nidoran ♀ (Female)',\n",
              " 'Nidorina',\n",
              " 'Nidoran ♂ (Male)',\n",
              " 'Nidorino',\n",
              " 'Clefairy',\n",
              " 'Vulpix',\n",
              " 'Jigglypuff',\n",
              " 'Zubat',\n",
              " 'Oddish',\n",
              " 'Gloom',\n",
              " 'Paras',\n",
              " 'Venonat',\n",
              " 'Diglett',\n",
              " 'Meowth',\n",
              " 'Psyduck',\n",
              " 'Mankey',\n",
              " 'Growlithe',\n",
              " 'Poliwag',\n",
              " 'Poliwhirl',\n",
              " 'Abra',\n",
              " 'Kadabra',\n",
              " 'Machop',\n",
              " 'Machoke',\n",
              " 'Bellsprout',\n",
              " 'Weepinbell',\n",
              " 'Tentacool',\n",
              " 'Geodude',\n",
              " 'Graveler',\n",
              " 'Ponyta',\n",
              " 'Slowpoke',\n",
              " 'Magnemite',\n",
              " 'Doduo',\n",
              " 'Seel',\n",
              " 'Grimer',\n",
              " 'Shellder',\n",
              " 'Gastly',\n",
              " 'Haunter',\n",
              " 'Drowzee',\n",
              " 'Krabby',\n",
              " 'Voltorb',\n",
              " 'Exeggcute',\n",
              " 'Cubone',\n",
              " 'Koffing',\n",
              " 'Rhyhorn',\n",
              " 'Horsea',\n",
              " 'Goldeen',\n",
              " 'Staryu',\n",
              " 'Magikarp',\n",
              " 'Eevee',\n",
              " 'Omanyte',\n",
              " 'Kabuto',\n",
              " 'Dratini',\n",
              " 'Dragonair']"
            ]
          },
          "metadata": {},
          "execution_count": 70
        }
      ]
    },
    {
      "cell_type": "markdown",
      "source": [
        "##Get all Pokemons that do not have more than 2 evolutions"
      ],
      "metadata": {
        "id": "L_FVAUYv1vcN"
      }
    },
    {
      "cell_type": "code",
      "source": [
        "pokemon_not_more_than_2_evalution = []\n",
        "for index, row in df.iterrows():\n",
        "  if type(row['next_evolution']) != float and type(row['prev_evolution']) != float:\n",
        "    nxt_evolution_list = row['next_evolution'].replace('[','').replace(']','').replace('{','').replace(' ','').split('}')[:-1]\n",
        "    prev_evalution_list = row['prev_evolution'].replace('[','').replace(']','').replace('{','').replace(' ','').split('}')[:-1]\n",
        "    if len(nxt_evolution_list) <= 2 and len(prev_evalution_list) <= 2:\n",
        "      pokemon_not_more_than_2_evalution.append(row['name'])\n",
        "pokemon_not_more_than_2_evalution"
      ],
      "metadata": {
        "colab": {
          "base_uri": "https://localhost:8080/"
        },
        "id": "MFgQGyfs1zyv",
        "outputId": "2728e737-0779-4617-9492-b8bd1f5afc96"
      },
      "execution_count": null,
      "outputs": [
        {
          "output_type": "execute_result",
          "data": {
            "text/plain": [
              "['Ivysaur',\n",
              " 'Charmeleon',\n",
              " 'Wartortle',\n",
              " 'Metapod',\n",
              " 'Kakuna',\n",
              " 'Pidgeotto',\n",
              " 'Nidorina',\n",
              " 'Nidorino',\n",
              " 'Gloom',\n",
              " 'Poliwhirl',\n",
              " 'Kadabra',\n",
              " 'Machoke',\n",
              " 'Weepinbell',\n",
              " 'Graveler',\n",
              " 'Haunter',\n",
              " 'Dragonair']"
            ]
          },
          "metadata": {},
          "execution_count": 96
        }
      ]
    },
    {
      "cell_type": "markdown",
      "source": [
        "##Get all Pokemons whose spawn time is less than 300 seconds"
      ],
      "metadata": {
        "id": "7RPKRYiLAuqj"
      }
    },
    {
      "cell_type": "code",
      "source": [
        "pokemon_spawn_time_less_than_300 = []\n",
        "for index, row in df.iterrows():\n",
        "  if type(row['spawn_time']) != float:\n",
        "    in_sec = row['spawn_time'].split(':')[1]\n",
        "    in_min = row['spawn_time'].split(':')[0]\n",
        "    if int(in_min) <= 4 and int(in_sec) <= 59:\n",
        "      pokemon_spawn_time_less_than_300.append(row['name'])\n",
        "      print(row['name'],row['spawn_time'])\n",
        "# pokemon_spawn_time_less_than_300\n"
      ],
      "metadata": {
        "colab": {
          "base_uri": "https://localhost:8080/"
        },
        "id": "N_fOWs5c4qWs",
        "outputId": "2bc91493-35c8-421c-fc16-96d8189c3ff7"
      },
      "execution_count": null,
      "outputs": [
        {
          "output_type": "stream",
          "name": "stdout",
          "text": [
            "Squirtle 04:25\n",
            "Blastoise 00:06\n",
            "Metapod 02:11\n",
            "Weedle 02:21\n",
            "Kakuna 02:30\n",
            "Beedrill 04:50\n",
            "Pidgey 01:34\n",
            "Pidgeotto 01:30\n",
            "Pidgeot 01:50\n",
            "Rattata 01:55\n",
            "Raticate 01:56\n",
            "Fearow 01:11\n",
            "Arbok 01:50\n",
            "Pikachu 04:00\n",
            "Sandshrew 01:58\n",
            "Nidoran ♀ (Female) 01:51\n",
            "Nidoran ♂ (Male) 01:12\n",
            "Clefairy 03:30\n",
            "Clefable 03:29\n",
            "Ninetales 01:32\n",
            "Golbat 02:15\n",
            "Oddish 03:58\n",
            "Paras 01:42\n",
            "Parasect 01:22\n",
            "Venonat 02:31\n",
            "Diglett 02:22\n",
            "Meowth 02:54\n",
            "Persian 02:44\n",
            "Psyduck 03:41\n",
            "Growlithe 03:57\n",
            "Arcanine 03:11\n",
            "Poliwag 03:40\n",
            "Poliwrath 01:32\n",
            "Abra 04:30\n",
            "Machop 01:55\n",
            "Machamp 02:55\n",
            "Bellsprout 04:10\n",
            "Tentacool 03:20\n",
            "Graveler 04:53\n",
            "Ponyta 02:50\n",
            "Rapidash 04:00\n",
            "Slowbro 02:56\n",
            "Magnemite 04:04\n",
            "Farfetch'd 01:09\n",
            "Dodrio 02:12\n",
            "Muk 01:28\n",
            "Cloyster 02:33\n",
            "Gastly 04:21\n",
            "Haunter 00:10\n",
            "Gengar 03:55\n",
            "Onix 01:18\n",
            "Drowzee 01:51\n",
            "Hypno 02:17\n",
            "Krabby 03:33\n",
            "Kingler 03:44\n",
            "Voltorb 04:36\n",
            "Electrode 04:10\n",
            "Cubone 01:51\n",
            "Marowak 03:59\n",
            "Hitmonlee 03:59\n",
            "Lickitung 02:46\n",
            "Rhyhorn 03:21\n",
            "Chansey 04:46\n",
            "Kangaskhan 02:40\n",
            "Horsea 02:53\n",
            "Seadra 03:18\n",
            "Goldeen 03:14\n",
            "Mr. Mime 01:51\n",
            "Electabuzz 04:28\n",
            "Pinsir 03:25\n",
            "Tauros 00:37\n",
            "Gyarados 02:15\n",
            "Jolteon 02:30\n",
            "Porygon 02:49\n",
            "Kabuto 00:05\n"
          ]
        }
      ]
    }
  ]
}